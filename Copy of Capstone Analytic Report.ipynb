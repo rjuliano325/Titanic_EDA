{
 "cells": [
  {
   "cell_type": "markdown",
   "metadata": {},
   "source": [
    "# Capstone Analytic Report #\n",
    "\n",
    "## The Dataset and Background: ##\n",
    "\n",
    "For this report, I've chosen to go with the very well known Titanic dataset. Specifically, I will be using the “titanic” dataset that comes with the seaborn library for Python.  For those who may be unfamiliar, I will provide a bit of background.\n",
    "\n",
    "The RMS Titanic was a passenger liner that sunk in the Atlantic Ocean in the early morning hours of April 15, 1912. It was the largest ship in the world at that time, and was claimed to be unsinkable. Tragically, the ship sank on its maiden voyage after a collision with an iceberg. There were only enough lifeboats for approximately 1,200 people; about half the number on board. It's estimated that just over 700 survivors were rescued. Reportedly, a disproportionate number of men perished, as the \"women and children\" protocol for loading lifeboats was enforced, meaning women and children had priority over the men. In fact, Fifth Officer Harold Lowe notably forced at least one man from a lifeboat at gunpoint, imploring the passenger to \"be a man - we have women and children to save'. [Sources: Wikipedia, https://en.wikipedia.org/wiki/RMS_Titanic, https://en.wikipedia.org/wiki/Lifeboats_of_the_RMS_Titanic]\n",
    "\n",
    "Many of the datasets I looked at before settling on this one were interesting, but weren't quite as robust. In other words, many datasets provided mostly categorical or numerical variables. In this dataset, there is a good mix of both, which provides an opportunity for a more interesting analysis. In this particular analysis, I would like to learn the following:\n",
    "\n",
    "1. How did men, women and children fare, respectively, with regard to survival?\n",
    "\n",
    "2. Which embarkation point had the most survivors?\n",
    "\n",
    "3. Did the fare paid for a ticket have any effect on the survivability of the passengers, i.e., was someone who purchased a more expensive ticket more likely to survive? \n",
    "\n",
    "We will begin by loading in the appropriate libraries to begin exploring and analyzing our data. \n"
   ]
  },
  {
   "cell_type": "markdown",
   "metadata": {},
   "source": [
    "## Initial Exploratory Data Analysis (EDA) ##"
   ]
  },
  {
   "cell_type": "code",
   "execution_count": 1,
   "metadata": {},
   "outputs": [],
   "source": [
    "# Import needed libraries\n",
    "\n",
    "import numpy as np\n",
    "import pandas as pd\n",
    "import matplotlib.pyplot as plt\n",
    "import seaborn as sns\n",
    "%matplotlib inline"
   ]
  },
  {
   "cell_type": "code",
   "execution_count": 2,
   "metadata": {},
   "outputs": [],
   "source": [
    "# Load the dataset, which is included in the seaborn library. Similarly, we could load the dataset in to pandas\n",
    "# via the 'pd.read_csv()' function, assuming the flatfile was in csv format.  \n",
    "\n",
    "df = sns.load_dataset('titanic')"
   ]
  },
  {
   "cell_type": "code",
   "execution_count": 3,
   "metadata": {},
   "outputs": [
    {
     "name": "stdout",
     "output_type": "stream",
     "text": [
      "<class 'pandas.core.frame.DataFrame'>\n",
      "RangeIndex: 891 entries, 0 to 890\n",
      "Data columns (total 15 columns):\n",
      "survived       891 non-null int64\n",
      "pclass         891 non-null int64\n",
      "sex            891 non-null object\n",
      "age            714 non-null float64\n",
      "sibsp          891 non-null int64\n",
      "parch          891 non-null int64\n",
      "fare           891 non-null float64\n",
      "embarked       889 non-null object\n",
      "class          891 non-null category\n",
      "who            891 non-null object\n",
      "adult_male     891 non-null bool\n",
      "deck           203 non-null category\n",
      "embark_town    889 non-null object\n",
      "alive          891 non-null object\n",
      "alone          891 non-null bool\n",
      "dtypes: bool(2), category(2), float64(2), int64(4), object(5)\n",
      "memory usage: 80.6+ KB\n"
     ]
    }
   ],
   "source": [
    "# Let's get summary info about the data frame\n",
    "df.info()"
   ]
  },
  {
   "cell_type": "code",
   "execution_count": 4,
   "metadata": {},
   "outputs": [
    {
     "data": {
      "text/plain": [
       "survived         0\n",
       "pclass           0\n",
       "sex              0\n",
       "age            177\n",
       "sibsp            0\n",
       "parch            0\n",
       "fare             0\n",
       "embarked         2\n",
       "class            0\n",
       "who              0\n",
       "adult_male       0\n",
       "deck           688\n",
       "embark_town      2\n",
       "alive            0\n",
       "alone            0\n",
       "dtype: int64"
      ]
     },
     "execution_count": 4,
     "metadata": {},
     "output_type": "execute_result"
    }
   ],
   "source": [
    "# We can see the number of non-null values above, but how many missing values do we have exactly? \n",
    "df.isnull().sum()"
   ]
  },
  {
   "cell_type": "markdown",
   "metadata": {},
   "source": [
    "We need to do something about the missing values in the columns we'd like to use. We see above that we are missing data in the \"ages\" column, which will be a primary source in answering the aforementioned questions. "
   ]
  },
  {
   "cell_type": "code",
   "execution_count": 5,
   "metadata": {},
   "outputs": [
    {
     "data": {
      "text/plain": [
       "0"
      ]
     },
     "execution_count": 5,
     "metadata": {},
     "output_type": "execute_result"
    }
   ],
   "source": [
    "# Here, we fill the blank ages with the median value for all the ages. There are more elegant ways to \n",
    "# solve this, such as filling in age by sex or designation as 'man', 'woman', or 'child' but we will\n",
    "# keep it simple for now.\n",
    "\n",
    "df.age.fillna(df.age.median(), inplace=True)\n",
    "\n",
    "# Check to see that there are no null values remaining in the age column\n",
    "df.age.isnull().sum()"
   ]
  },
  {
   "cell_type": "markdown",
   "metadata": {},
   "source": [
    "## Question 1: How did men, women and children fare respectively with regard to survival?##\n",
    "\n",
    "As mentioned in the introduction to this analysis, at the time the Titanic sank, there was a \"women and children first\" protocol enforced when loading the lifeboats. Did this actually affect the number of survivors based on sex? Let's first get a feel for the people included in our dataset. "
   ]
  },
  {
   "cell_type": "code",
   "execution_count": 6,
   "metadata": {},
   "outputs": [
    {
     "data": {
      "text/plain": [
       "man      537\n",
       "woman    271\n",
       "child     83\n",
       "Name: who, dtype: int64"
      ]
     },
     "execution_count": 6,
     "metadata": {},
     "output_type": "execute_result"
    }
   ],
   "source": [
    "# How many men, women, and children are included in our dataset? \n",
    "\n",
    "df.who.value_counts()"
   ]
  },
  {
   "cell_type": "code",
   "execution_count": 15,
   "metadata": {},
   "outputs": [
    {
     "name": "stdout",
     "output_type": "stream",
     "text": [
      "Average Ages:  who\n",
      "child     6.369518\n",
      "man      31.978585\n",
      "woman    31.217712\n",
      "Name: age, dtype: float64\n"
     ]
    },
    {
     "data": {
      "image/png": "[encoded data removed]",
      "text/plain": [
       "<matplotlib.figure.Figure at 0x274721aa940>"
      ]
     },
     "metadata": {},
     "output_type": "display_data"
    }
   ],
   "source": [
    "plt.figure(figsize=(15,5))\n",
    "\n",
    "#create a horizontal chart of men, women, and children in the dataset\n",
    "plt.subplot(1,3,1)\n",
    "df.who.value_counts().plot.barh()\n",
    "plt.title(\"Distribution of Men, Women, and Children\")\n",
    "\n",
    "#age distribution by man, woman, child\n",
    "plt.subplot(1,3,2)\n",
    "df.groupby('who').age.hist(alpha=0.65)\n",
    "plt.title('Age Distribution By \"WHO\"')\n",
    "plt.ylabel('Count')\n",
    "plt.xlabel('Ages')\n",
    "plt.legend(['Child','Man','Woman'])\n",
    "\n",
    "plt.subplot(1,3,3)\n",
    "df.age.groupby(by=df['who']).mean().plot.bar()\n",
    "plt.title('Average Age of Man, Woman, and Child')\n",
    "plt.ylabel('Years of Age')\n",
    "print(\"Average Ages: \",df.age.groupby(by=df['who']).mean())\n",
    "\n",
    "plt.tight_layout()\n",
    "\n",
    "plt.show()"
   ]
  },
  {
   "cell_type": "markdown",
   "metadata": {},
   "source": [
    "From the previous charts, we can see that in this dataset, men make up the majority of people aboard. We can also see the the average age for men and women is about thirty-two (32) and thirty-one (31) years of age, respectively. The average age of children  in this dataset is about six years old. Considering the aforementioned \"women and children first\" protocol, we would expect that a higher number of men perished. Being that the number of men is greater than that of women and children, it would be appropriate to also include the percentage, as well as the absolute number, of survivors."
   ]
  },
  {
   "cell_type": "code",
   "execution_count": 8,
   "metadata": {},
   "outputs": [
    {
     "name": "stdout",
     "output_type": "stream",
     "text": [
      "Survival Percentage:\n",
      "Children: 59.04%\n",
      "Women: 75.65%\n",
      "Men: 16.39%\n"
     ]
    },
    {
     "data": {
      "image/png": "[encoded data removed]",
      "text/plain": [
       "<matplotlib.figure.Figure at 0x27471faa160>"
      ]
     },
     "metadata": {},
     "output_type": "display_data"
    }
   ],
   "source": [
    "# set our conditions, or filters, to be used to get specific data\n",
    "surv = df['survived'] == 1\n",
    "child = df['who'] == 'child'\n",
    "woman = df['who'] == 'woman'\n",
    "man = df['who'] == 'man'\n",
    "\n",
    "sns.countplot(x='who', data=df, hue='survived')\n",
    "\n",
    "# include the percentages of survivors by man, woman, or child\n",
    "print('Survival Percentage:')\n",
    "print(\"Children: {:.2%}\".format(df['survived'][child & surv].count() / df['survived'][child].count()))\n",
    "print(\"Women: {:.2%}\".format(df['survived'][woman & surv].count() / df['survived'][woman].count()))\n",
    "print(\"Men: {:.2%}\".format(df['survived'][man & surv].count() / df['survived'][man].count()))"
   ]
  },
  {
   "cell_type": "markdown",
   "metadata": {},
   "source": [
    "## Question 1 Findings: ##\n",
    "\n",
    "Men in our dataset were much less likely to survive the incident, with a survival rate of about sixteen (16) percent. Children in this dataset had a fifty-nine (59) percent survival rate, and women had the highest rate of survival at almost seventy-six (76) percent. "
   ]
  },
  {
   "cell_type": "markdown",
   "metadata": {},
   "source": [
    "## Question 2: Which embarkation point had the most survivors? ##\n",
    "\n",
    "In this dataset, we can see that there are three embarkation points: \"Q\", \"C\", and \"S\". These correspond to Cherbourg, France, Queensland, Ireland, and Southampton, England. For this question, we can simply segregate the passengers by their embarkation point, and see if they survived or not. "
   ]
  },
  {
   "cell_type": "code",
   "execution_count": 9,
   "metadata": {},
   "outputs": [
    {
     "name": "stdout",
     "output_type": "stream",
     "text": [
      "S: 33.70%\n",
      "C: 55.36%\n",
      "Q: 38.96%\n"
     ]
    },
    {
     "data": {
      "image/png": "[encoded data removed]",
      "text/plain": [
       "<matplotlib.figure.Figure at 0x27471f6c630>"
      ]
     },
     "metadata": {},
     "output_type": "display_data"
    }
   ],
   "source": [
    "# set our conditions to isolate embarkation point\n",
    "s = df['embarked'] == 'S'\n",
    "c = df['embarked'] == 'C'\n",
    "q = df['embarked'] == 'Q'\n",
    "\n",
    "\n",
    "sns.countplot(x='embarked', hue='survived', data=df)\n",
    "plt.title('Surival by Embarkation Point')\n",
    "plt.xlabel('Embarkation Point')\n",
    "\n",
    "# include the percentages of survivors by embarkation point\n",
    "print(\"S: {:.2%}\".format(df['embarked'][s & surv].count()/df['embarked'][s].count()))\n",
    "print(\"C: {:.2%}\".format(df['embarked'][c & surv].count()/df['embarked'][c].count()))\n",
    "print(\"Q: {:.2%}\".format(df['embarked'][q & surv].count()/df['embarked'][q].count()))"
   ]
  },
  {
   "cell_type": "markdown",
   "metadata": {},
   "source": [
    "## Question 2 Findings: ##\n",
    "\n",
    "Southampton had the most passengers overall, and suffered the most casualties. The best survivability was had by passengers from Cherbourg at fifty-five (55) percent. It is notable that Queensland suffered a thirty-nine (39) percent survival rate, even though they had much fewer passengers overall. Could it be that passenger class played a role? Even though this question wasn't initially asked, I think it deserves a quick look. "
   ]
  },
  {
   "cell_type": "code",
   "execution_count": 10,
   "metadata": {},
   "outputs": [
    {
     "data": {
      "image/png": "[encoded data removed]",
      "text/plain": [
       "<matplotlib.figure.Figure at 0x27471bd8fd0>"
      ]
     },
     "metadata": {},
     "output_type": "display_data"
    }
   ],
   "source": [
    "# create a plot that shows the number of passenger class by embarkation point.\n",
    "sns.countplot(x='embarked', hue='pclass', data=df)\n",
    "plt.title('Passenger Class by Embarkation Point')\n",
    "plt.xlabel('Embarkation Point')\n",
    "\n",
    "plt.show()"
   ]
  },
  {
   "cell_type": "markdown",
   "metadata": {},
   "source": [
    "Here we can see that Queensland was composed almost entirely third class passengers. It makes a compelling case for, and is a good segue, into our final question."
   ]
  },
  {
   "cell_type": "markdown",
   "metadata": {},
   "source": [
    "## Question 3: Did the fare paid for a ticket have any effect on the survivability of the passengers, i.e., was someone who purchased a more expensive ticket more likely to survive? ##\n",
    "\n",
    "Here, we will dig in to this dataset to determine if there a link between the price paid for a ticket, and the survivability  of the passenger."
   ]
  },
  {
   "cell_type": "code",
   "execution_count": 11,
   "metadata": {},
   "outputs": [
    {
     "data": {
      "image/png": "[encoded data removed]",
      "text/plain": [
       "<matplotlib.figure.Figure at 0x2747215b240>"
      ]
     },
     "metadata": {},
     "output_type": "display_data"
    }
   ],
   "source": [
    "# create plot showing survival by fare\n",
    "\n",
    "sns.boxplot(x='survived', y='fare', data=df, showfliers=False)\n",
    "plt.xlabel('0 = Deceased : 1 = Survived')\n",
    "plt.title('Fare Distribution by Survival')\n",
    "plt.tight_layout()\n",
    "\n",
    "plt.show()"
   ]
  },
  {
   "cell_type": "code",
   "execution_count": 14,
   "metadata": {},
   "outputs": [
    {
     "data": {
      "text/plain": [
       "(-1.5, 1.5)"
      ]
     },
     "execution_count": 14,
     "metadata": {},
     "output_type": "execute_result"
    },
    {
     "data": {
      "image/png": "[encoded data removed]",
      "text/plain": [
       "<matplotlib.figure.Figure at 0x274721a07f0>"
      ]
     },
     "metadata": {},
     "output_type": "display_data"
    }
   ],
   "source": [
    "# regression\n",
    "sns.lmplot(x='fare', y='survived', data=df, logistic=True)\n",
    "plt.title('Logistic Regression: Survival by Fare')\n",
    "plt.ylim([-1.5,1.5])\n"
   ]
  },
  {
   "cell_type": "code",
   "execution_count": 13,
   "metadata": {},
   "outputs": [
    {
     "data": {
      "text/html": [
       "<div>\n",
       "<style scoped>\n",
       "    .dataframe tbody tr th:only-of-type {\n",
       "        vertical-align: middle;\n",
       "    }\n",
       "\n",
       "    .dataframe tbody tr th {\n",
       "        vertical-align: top;\n",
       "    }\n",
       "\n",
       "    .dataframe thead th {\n",
       "        text-align: right;\n",
       "    }\n",
       "</style>\n",
       "<table border=\"1\" class=\"dataframe\">\n",
       "  <thead>\n",
       "    <tr style=\"text-align: right;\">\n",
       "      <th></th>\n",
       "      <th>count</th>\n",
       "      <th>mean</th>\n",
       "      <th>std</th>\n",
       "      <th>min</th>\n",
       "      <th>25%</th>\n",
       "      <th>50%</th>\n",
       "      <th>75%</th>\n",
       "      <th>max</th>\n",
       "    </tr>\n",
       "    <tr>\n",
       "      <th>survived</th>\n",
       "      <th></th>\n",
       "      <th></th>\n",
       "      <th></th>\n",
       "      <th></th>\n",
       "      <th></th>\n",
       "      <th></th>\n",
       "      <th></th>\n",
       "      <th></th>\n",
       "    </tr>\n",
       "  </thead>\n",
       "  <tbody>\n",
       "    <tr>\n",
       "      <th>0</th>\n",
       "      <td>549.0</td>\n",
       "      <td>22.117887</td>\n",
       "      <td>31.388207</td>\n",
       "      <td>0.0</td>\n",
       "      <td>7.8542</td>\n",
       "      <td>10.5</td>\n",
       "      <td>26.0</td>\n",
       "      <td>263.0000</td>\n",
       "    </tr>\n",
       "    <tr>\n",
       "      <th>1</th>\n",
       "      <td>342.0</td>\n",
       "      <td>48.395408</td>\n",
       "      <td>66.596998</td>\n",
       "      <td>0.0</td>\n",
       "      <td>12.4750</td>\n",
       "      <td>26.0</td>\n",
       "      <td>57.0</td>\n",
       "      <td>512.3292</td>\n",
       "    </tr>\n",
       "  </tbody>\n",
       "</table>\n",
       "</div>"
      ],
      "text/plain": [
       "          count       mean        std  min      25%   50%   75%       max\n",
       "survived                                                                 \n",
       "0         549.0  22.117887  31.388207  0.0   7.8542  10.5  26.0  263.0000\n",
       "1         342.0  48.395408  66.596998  0.0  12.4750  26.0  57.0  512.3292"
      ]
     },
     "execution_count": 13,
     "metadata": {},
     "output_type": "execute_result"
    }
   ],
   "source": [
    "# create a table showing ticket price descriptive stats by survival\n",
    "df.groupby('survived').fare.describe()"
   ]
  },
  {
   "cell_type": "markdown",
   "metadata": {},
   "source": [
    "## Question 3 Findings: ##\n",
    "\n",
    "We can see from the plots and the extracted/aggregated data, that passengers who survived had a higher ticket price on average. Additionally our logistic regression shows a tendency toward survival with higher ticket prices. Logistic regression was a more appropriate choice in this instance as our dependent variable, whether or not a person survived, is a binary outcome. We can clearly see that among survivors, the average ticket price paid was a bit more than double what the non-survivors paid. "
   ]
  },
  {
   "cell_type": "markdown",
   "metadata": {},
   "source": [
    "## Summary and Final Thoughts ##\n",
    "\n",
    "In this exercise, we have shown that men had the highest likelihood of not surviving the sinking. Additionally, we have learned that passengers from Southampton suffered the highest mortality rate, and that fare paid does indeed seem to be related to passenger survival.\n",
    "\n"
   ]
  },
  {
   "cell_type": "markdown",
   "metadata": {},
   "source": [
    "## Sources:##\n",
    "\n",
    "Sources: Wikipedia: https://en.wikipedia.org/wiki/RMS_Titanic; \n",
    "                    https://en.wikipedia.org/wiki/Lifeboats_of_the_RMS_Titanic\n"
   ]
  }
 ],
 "metadata": {
  "kernelspec": {
   "display_name": "Python 3",
   "language": "python",
   "name": "python3"
  },
  "language_info": {
   "codemirror_mode": {
    "name": "ipython",
    "version": 3
   },
   "file_extension": ".py",
   "mimetype": "text/x-python",
   "name": "python",
   "nbconvert_exporter": "python",
   "pygments_lexer": "ipython3",
   "version": "3.6.4"
  }
 },
 "nbformat": 4,
 "nbformat_minor": 2
}
